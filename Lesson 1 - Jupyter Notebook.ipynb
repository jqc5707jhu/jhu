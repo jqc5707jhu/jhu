{
 "cells": [
  {
   "cell_type": "code",
   "execution_count": 2,
   "metadata": {},
   "outputs": [
    {
     "name": "stdout",
     "output_type": "stream",
     "text": [
      "Good morning. This my Jupyter notebook for Lesson 1\n"
     ]
    }
   ],
   "source": [
    "def intro():\n",
    "    print(\"Good morning. This my Jupyter notebook for Lesson 1\")\n",
    "\n",
    "intro()"
   ]
  },
  {
   "cell_type": "code",
   "execution_count": 19,
   "metadata": {},
   "outputs": [
    {
     "name": "stdout",
     "output_type": "stream",
     "text": [
      "Data is [-0.74674262  0.31081206  0.24292287 -0.74263252  0.26839867 -1.14967006\n",
      "  0.31842858  0.01732493 -2.29408992  1.9532805 ]\n",
      "Mean is:-0.182197\n"
     ]
    }
   ],
   "source": [
    "import numpy as np\n",
    "data = np.random.randn(10)\n",
    "print('Data is %s' % data)\n",
    "print('Mean is:%f' % np.mean(data))"
   ]
  },
  {
   "cell_type": "code",
   "execution_count": null,
   "metadata": {},
   "outputs": [],
   "source": []
  }
 ],
 "metadata": {
  "kernelspec": {
   "display_name": "Python 3",
   "language": "python",
   "name": "python3"
  },
  "language_info": {
   "codemirror_mode": {
    "name": "ipython",
    "version": 3
   },
   "file_extension": ".py",
   "mimetype": "text/x-python",
   "name": "python",
   "nbconvert_exporter": "python",
   "pygments_lexer": "ipython3",
   "version": "3.6.5"
  }
 },
 "nbformat": 4,
 "nbformat_minor": 2
}
