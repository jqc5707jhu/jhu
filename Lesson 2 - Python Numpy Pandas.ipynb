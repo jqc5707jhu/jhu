{
 "cells": [
  {
   "cell_type": "code",
   "execution_count": 169,
   "metadata": {
    "collapsed": true
   },
   "outputs": [],
   "source": [
    "import numpy as np\n",
    "import pandas as pd\n",
    "import scipy as sp"
   ]
  },
  {
   "cell_type": "code",
   "execution_count": 170,
   "metadata": {
    "collapsed": true
   },
   "outputs": [],
   "source": [
    "%matplotlib inline\n",
    "import matplotlib.pyplot as plt\n",
    "plt.style.use('ggplot')"
   ]
  },
  {
   "cell_type": "code",
   "execution_count": 171,
   "metadata": {},
   "outputs": [
    {
     "name": "stdout",
     "output_type": "stream",
     "text": [
      "Overwriting hw_data.csv\n"
     ]
    }
   ],
   "source": [
    "%%file hw_data.csv\n",
    "id,sex,weight,height\n",
    "1,M,190,77\n",
    "2,F,120,70\n",
    "3,F,110,68\n",
    "4,M,150,72\n",
    "5,O,120,66\n",
    "6,M,120,60\n",
    "7,F,140,70"
   ]
  },
  {
   "cell_type": "markdown",
   "metadata": {},
   "source": [
    "# Python"
   ]
  },
  {
   "cell_type": "markdown",
   "metadata": {},
   "source": [
    "## 1. Finish creating the following function that takes a list and returns the average value."
   ]
  },
  {
   "cell_type": "code",
   "execution_count": 172,
   "metadata": {},
   "outputs": [
    {
     "data": {
      "text/plain": [
       "3.375"
      ]
     },
     "execution_count": 172,
     "metadata": {},
     "output_type": "execute_result"
    }
   ],
   "source": [
    "def average(my_list):\n",
    "    total = 0\n",
    "    for item in my_list:\n",
    "        total += item\n",
    "    \n",
    "    return total / len(my_list)\n",
    "\n",
    "average([1,2,1,4,3,2,5,9])"
   ]
  },
  {
   "cell_type": "markdown",
   "metadata": {},
   "source": [
    "## 2. Using a Dictionary keep track of the count of numbers (or items) from a list"
   ]
  },
  {
   "cell_type": "code",
   "execution_count": 173,
   "metadata": {},
   "outputs": [
    {
     "data": {
      "text/plain": [
       "{1: 2, 2: 2, 3: 1, 4: 1, 5: 1, 9: 1}"
      ]
     },
     "execution_count": 173,
     "metadata": {},
     "output_type": "execute_result"
    }
   ],
   "source": [
    "def counts(my_list):\n",
    "    counts = dict()\n",
    "    for item in my_list:\n",
    "        if item in counts:\n",
    "            counts[item] += 1\n",
    "        else:\n",
    "            counts[item] = 1\n",
    "    \n",
    "    return counts\n",
    "\n",
    "counts([1,2,1,4,3,2,5,9])    "
   ]
  },
  {
   "cell_type": "markdown",
   "metadata": {},
   "source": [
    "## 3.  Using the `counts()` function and the `.split()` function, return a dictionary of most occuring words from the following paragraph. Bonus, remove punctuation from words."
   ]
  },
  {
   "cell_type": "code",
   "execution_count": 174,
   "metadata": {},
   "outputs": [
    {
     "data": {
      "text/plain": [
       "[('the', 34),\n",
       " ('and', 19),\n",
       " ('a', 15),\n",
       " ('to', 15),\n",
       " ('in', 9),\n",
       " ('of', 9),\n",
       " ('she', 8),\n",
       " ('was', 8),\n",
       " ('at', 7),\n",
       " ('for', 6),\n",
       " ('footman', 6),\n",
       " ('he', 6),\n",
       " ('his', 6),\n",
       " ('door', 6),\n",
       " ('you', 6),\n",
       " ('out', 5),\n",
       " ('alice', 5),\n",
       " ('it', 4),\n",
       " ('had', 4),\n",
       " ('as', 4),\n",
       " ('this', 4),\n",
       " ('on', 4),\n",
       " ('i', 4),\n",
       " ('livery', 3),\n",
       " ('him', 3),\n",
       " ('because', 3),\n",
       " ('by', 3),\n",
       " ('large', 3),\n",
       " ('that', 3),\n",
       " ('all', 3),\n",
       " ('their', 3),\n",
       " ('from', 3),\n",
       " ('then', 3),\n",
       " ('into', 3),\n",
       " ('up', 3),\n",
       " ('said', 3),\n",
       " ('if', 3),\n",
       " ('might', 3),\n",
       " ('or', 2),\n",
       " ('two', 2),\n",
       " ('looking', 2),\n",
       " ('house', 2),\n",
       " ('what', 2),\n",
       " ('next', 2),\n",
       " ('when', 2),\n",
       " ('came', 2),\n",
       " ('be', 2),\n",
       " ('face', 2),\n",
       " ('only', 2),\n",
       " ('with', 2),\n",
       " ('opened', 2),\n",
       " ('eyes', 2),\n",
       " ('both', 2),\n",
       " ('over', 2),\n",
       " ('very', 2),\n",
       " ('know', 2),\n",
       " ('little', 2),\n",
       " ('wood', 2),\n",
       " ('fish-footman', 2),\n",
       " ('great', 2),\n",
       " ('nearly', 2),\n",
       " ('other', 2),\n",
       " ('solemn', 2),\n",
       " ('tone', 2),\n",
       " ('duchess', 2),\n",
       " ('an', 2),\n",
       " ('invitation', 2),\n",
       " ('queen', 2),\n",
       " ('play', 2),\n",
       " ('croquet', 2),\n",
       " ('repeated', 2),\n",
       " ('same', 2),\n",
       " ('so', 2),\n",
       " ('her', 2),\n",
       " ('sky', 2),\n",
       " ('went', 2),\n",
       " ('no', 2),\n",
       " ('knocking', 2),\n",
       " ('are', 2),\n",
       " ('noise', 2),\n",
       " ('inside', 2),\n",
       " ('one', 2),\n",
       " ('could', 2),\n",
       " ('there', 2),\n",
       " ('pieces', 2),\n",
       " ('how', 2),\n",
       " ('am', 2),\n",
       " ('get', 2),\n",
       " ('but', 2),\n",
       " ('head', 2),\n",
       " ('minute', 1),\n",
       " ('stood', 1),\n",
       " ('wondering', 1),\n",
       " ('do', 1),\n",
       " ('suddenly', 1),\n",
       " ('running', 1),\n",
       " ('woo', 1),\n",
       " ('considered', 1),\n",
       " ('otherwise', 1),\n",
       " ('judging', 1),\n",
       " ('would', 1),\n",
       " ('have', 1),\n",
       " ('called', 1),\n",
       " ('fish', 1),\n",
       " ('rapped', 1),\n",
       " ('loudly', 1),\n",
       " ('knuckles', 1),\n",
       " ('another', 1),\n",
       " ('round', 1),\n",
       " ('like', 1),\n",
       " ('frog', 1),\n",
       " ('footmen', 1),\n",
       " ('noticed', 1),\n",
       " ('powdered', 1),\n",
       " ('hair', 1),\n",
       " ('curled', 1),\n",
       " ('heads', 1),\n",
       " ('felt', 1),\n",
       " ('curious', 1),\n",
       " ('about', 1),\n",
       " ('crept', 1),\n",
       " ('way', 1),\n",
       " ('listen', 1),\n",
       " ('began', 1),\n",
       " ('producing', 1),\n",
       " ('under', 1),\n",
       " ('arm', 1),\n",
       " ('letter', 1),\n",
       " ('himself', 1),\n",
       " ('handed', 1),\n",
       " ('saying', 1),\n",
       " ('frog-footman', 1),\n",
       " ('changing', 1),\n",
       " ('order', 1),\n",
       " ('words', 1),\n",
       " ('they', 1),\n",
       " ('bowed', 1),\n",
       " ('low', 1),\n",
       " ('curls', 1),\n",
       " ('got', 1),\n",
       " ('entangled', 1),\n",
       " ('together', 1),\n",
       " ('laughed', 1),\n",
       " ('much', 1),\n",
       " ('run', 1),\n",
       " ('back', 1),\n",
       " ('fear', 1),\n",
       " ('hearing', 1),\n",
       " ('peeped', 1),\n",
       " ('gone', 1),\n",
       " ('sitting', 1),\n",
       " ('ground', 1),\n",
       " ('near', 1),\n",
       " ('staring', 1),\n",
       " ('stupidly', 1),\n",
       " ('timidly', 1),\n",
       " ('knocked', 1),\n",
       " ('theres', 1),\n",
       " ('sort', 1),\n",
       " ('use', 1),\n",
       " ('reasons', 1),\n",
       " ('first', 1),\n",
       " ('im', 1),\n",
       " ('side', 1),\n",
       " ('secondly', 1),\n",
       " ('theyre', 1),\n",
       " ('making', 1),\n",
       " ('such', 1),\n",
       " ('possibly', 1),\n",
       " ('hear', 1),\n",
       " ('certainly', 1),\n",
       " ('most', 1),\n",
       " ('extraordinary', 1),\n",
       " ('going', 1),\n",
       " ('within—a', 1),\n",
       " ('constant', 1),\n",
       " ('howling', 1),\n",
       " ('sneezing', 1),\n",
       " ('every', 1),\n",
       " ('now', 1),\n",
       " ('crash', 1),\n",
       " ('dish', 1),\n",
       " ('kettle', 1),\n",
       " ('been', 1),\n",
       " ('broken', 1),\n",
       " ('please', 1),\n",
       " ('some', 1),\n",
       " ('sense', 1),\n",
       " ('your', 1),\n",
       " ('without', 1),\n",
       " ('attending', 1),\n",
       " ('we', 1),\n",
       " ('between', 1),\n",
       " ('us', 1),\n",
       " ('instance', 1),\n",
       " ('were', 1),\n",
       " ('knock', 1),\n",
       " ('let', 1),\n",
       " ('time', 1),\n",
       " ('speaking', 1),\n",
       " ('thought', 1),\n",
       " ('decidedly', 1),\n",
       " ('uncivil', 1),\n",
       " ('perhaps', 1),\n",
       " ('cant', 1),\n",
       " ('help', 1),\n",
       " ('herself', 1),\n",
       " ('top', 1),\n",
       " ('any', 1),\n",
       " ('rate', 1),\n",
       " ('answer', 1),\n",
       " ('questions', 1),\n",
       " ('aloud', 1),\n",
       " ('shall', 1),\n",
       " ('sit', 1),\n",
       " ('here', 1),\n",
       " ('remarked', 1),\n",
       " ('till', 1),\n",
       " ('tomorrow', 1),\n",
       " ('moment', 1),\n",
       " ('plate', 1),\n",
       " ('skimming', 1),\n",
       " ('straight', 1),\n",
       " ('footmans', 1),\n",
       " ('just', 1),\n",
       " ('grazed', 1),\n",
       " ('nose', 1),\n",
       " ('broke', 1),\n",
       " ('against', 1),\n",
       " ('trees', 1),\n",
       " ('behind', 1)]"
      ]
     },
     "execution_count": 174,
     "metadata": {},
     "output_type": "execute_result"
    }
   ],
   "source": [
    "paragraph_text = '''\n",
    "For a minute or two she stood looking at the house, and wondering what to do next, when suddenly a footman in livery came running out of the wood—(she considered him to be a footman because he was in livery: otherwise, judging by his face only, she would have called him a fish)—and rapped loudly at the door with his knuckles. It was opened by another footman in livery, with a round face, and large eyes like a frog; and both footmen, Alice noticed, had powdered hair that curled all over their heads. She felt very curious to know what it was all about, and crept a little way out of the wood to listen.\n",
    "The Fish-Footman began by producing from under his arm a great letter, nearly as large as himself, and this he handed over to the other, saying, in a solemn tone, ‘For the Duchess. An invitation from the Queen to play croquet.’ The Frog-Footman repeated, in the same solemn tone, only changing the order of the words a little, ‘From the Queen. An invitation for the Duchess to play croquet.’\n",
    "Then they both bowed low, and their curls got entangled together.\n",
    "Alice laughed so much at this, that she had to run back into the wood for fear of their hearing her; and when she next peeped out the Fish-Footman was gone, and the other was sitting on the ground near the door, staring stupidly up into the sky.\n",
    "Alice went timidly up to the door, and knocked.\n",
    "‘There’s no sort of use in knocking,’ said the Footman, ‘and that for two reasons. First, because I’m on the same side of the door as you are; secondly, because they’re making such a noise inside, no one could possibly hear you.’ And certainly there was a most extraordinary noise going on within—a constant howling and sneezing, and every now and then a great crash, as if a dish or kettle had been broken to pieces.\n",
    "‘Please, then,’ said Alice, ‘how am I to get in?’\n",
    "‘There might be some sense in your knocking,’ the Footman went on without attending to her, ‘if we had the door between us. For instance, if you were inside, you might knock, and I could let you out, you know.’ He was looking up into the sky all the time he was speaking, and this Alice thought decidedly uncivil. ‘But perhaps he can’t help it,’ she said to herself; ‘his eyes are so very nearly at the top of his head. But at any rate he might answer questions.—How am I to get in?’ she repeated, aloud.\n",
    "‘I shall sit here,’ the Footman remarked, ‘till tomorrow—’\n",
    "At this moment the door of the house opened, and a large plate came skimming out, straight at the Footman’s head: it just grazed his nose, and broke to pieces against one of the trees behind him.'''\n",
    "\n",
    "punct = ['\\n', ',', '?', ':', '.', ';', ')', '(']\n",
    "\n",
    "#Remove punctuation (but keep spaces so we can split on them later)\n",
    "#results in an array of lower-case characters that we need to convert back into strings\n",
    "text = [' ' if c in punct else c.lower() for c in paragraph_text]\n",
    "\n",
    "#rebuild the characters as strings of words, and split the words on space.\n",
    "words = ''.join(text).split(' ')\n",
    "\n",
    "#remove any non-alpha leading/trailing character\n",
    "words = [w[1:] if w and not w[0].isalpha() else w for w in words]\n",
    "words = [w[0:-2] if w and not w[-1].isalpha() else w for w in words]\n",
    "\n",
    "#remove embedded apostrophe, eg. can't replaced with cant\n",
    "words = [w.replace('’', '') for w in words]\n",
    "\n",
    "#count the words\n",
    "count_of_words = counts(words)\n",
    "del count_of_words['']\n",
    "\n",
    "#sort in descending order of frequency of occurrence\n",
    "sorted(count_of_words.items(), key=lambda x: x[1], reverse = True  )"
   ]
  },
  {
   "cell_type": "markdown",
   "metadata": {},
   "source": [
    "## 4. Read in a file and write each line from the file to a new file Title-ized\n",
    "\n",
    "`This is the first line` ->  `This Is The First Line`\n",
    "\n",
    "Hint: There's a function to do this"
   ]
  },
  {
   "cell_type": "code",
   "execution_count": 175,
   "metadata": {},
   "outputs": [
    {
     "name": "stdout",
     "output_type": "stream",
     "text": [
      "The Capital Of Arizona Is Phoenix.\n",
      "The Capital Of California Is Sacremento.\n",
      "The Capital Of Illinois Is Chicago. Wait, That's Not Right, It's Springfield.\n",
      "The End.\n"
     ]
    }
   ],
   "source": [
    "data = !cat capital.txt\n",
    "data = list(map(lambda x: [w.capitalize() for w in x], [line.split() for line in data]))\n",
    "data = [' '.join(x) for x in data]\n",
    "lines = '\\n'.join(data)\n",
    "f = open('capitalize.txt', 'w')\n",
    "f.write(lines)\n",
    "f.close()\n",
    "print(lines)"
   ]
  },
  {
   "cell_type": "markdown",
   "metadata": {},
   "source": [
    "# Numpy"
   ]
  },
  {
   "cell_type": "markdown",
   "metadata": {},
   "source": [
    "## 1. Given a list, find the average using a numpy function. "
   ]
  },
  {
   "cell_type": "code",
   "execution_count": 176,
   "metadata": {},
   "outputs": [
    {
     "data": {
      "text/plain": [
       "3.375"
      ]
     },
     "execution_count": 176,
     "metadata": {},
     "output_type": "execute_result"
    }
   ],
   "source": [
    "simple_list = [1,2,1,4,3,2,5,9]\n",
    "np.average(simple_list)"
   ]
  },
  {
   "cell_type": "markdown",
   "metadata": {},
   "source": [
    "## 2. Given two lists of Heights and Weights of individual, calculate the BMI of those individuals, without writing a `for-loop`"
   ]
  },
  {
   "cell_type": "code",
   "execution_count": 177,
   "metadata": {},
   "outputs": [
    {
     "data": {
      "text/plain": [
       "array([ 0.50574713,  0.47976879,  0.53179191,  0.42285714,  0.4502924 ])"
      ]
     },
     "execution_count": 177,
     "metadata": {},
     "output_type": "execute_result"
    }
   ],
   "source": [
    "heights = [174, 173, 173, 175, 171]\n",
    "weights = [88, 83, 92, 74, 77]\n",
    "np.divide(weights, heights)"
   ]
  },
  {
   "cell_type": "markdown",
   "metadata": {},
   "source": [
    "## 3. Create an array of length 20 filled with random values (between 0 to 1) "
   ]
  },
  {
   "cell_type": "code",
   "execution_count": 178,
   "metadata": {},
   "outputs": [
    {
     "name": "stdout",
     "output_type": "stream",
     "text": [
      "[ 0.26736871  0.98145553  0.89126903  0.64437177  0.23501061  0.36282756\n",
      "  0.71156478  0.64020932  0.05172268  0.16451714  0.49168337  0.2927117\n",
      "  0.4069272   0.32848677  0.55069329  0.23295522  0.65476708  0.76046521\n",
      "  0.75038896  0.51572124]\n"
     ]
    }
   ],
   "source": [
    "import random\n",
    "a = np.array(np.random.rand(20))\n",
    "print(a)"
   ]
  },
  {
   "cell_type": "markdown",
   "metadata": {},
   "source": [
    "## Bonus. 1. Create an array with a large (>1000) length filled with random numbers from different distributions (normal, uniform, etc.). 2. Then, plot a histogram of these values. "
   ]
  },
  {
   "cell_type": "markdown",
   "metadata": {},
   "source": [
    "# Pandas"
   ]
  },
  {
   "cell_type": "markdown",
   "metadata": {},
   "source": [
    "## 1. Read in a CSV () and display all the columns and their respective data types "
   ]
  },
  {
   "cell_type": "code",
   "execution_count": 179,
   "metadata": {},
   "outputs": [
    {
     "data": {
      "text/plain": [
       "id         int64\n",
       "sex       object\n",
       "weight     int64\n",
       "height     int64\n",
       "dtype: object"
      ]
     },
     "execution_count": 179,
     "metadata": {},
     "output_type": "execute_result"
    }
   ],
   "source": [
    "data = pd.read_csv('hw_data.csv')\n",
    "data.dtypes"
   ]
  },
  {
   "cell_type": "markdown",
   "metadata": {},
   "source": [
    "## 2. Find the average weight "
   ]
  },
  {
   "cell_type": "code",
   "execution_count": 180,
   "metadata": {},
   "outputs": [
    {
     "data": {
      "text/plain": [
       "135.71428571428572"
      ]
     },
     "execution_count": 180,
     "metadata": {},
     "output_type": "execute_result"
    }
   ],
   "source": [
    "data.weight.mean()"
   ]
  },
  {
   "cell_type": "markdown",
   "metadata": {},
   "source": [
    "## 3. Find the Value Counts on column `sex` "
   ]
  },
  {
   "cell_type": "code",
   "execution_count": 181,
   "metadata": {},
   "outputs": [
    {
     "data": {
      "text/plain": [
       "M    3\n",
       "F    3\n",
       "O    1\n",
       "Name: sex, dtype: int64"
      ]
     },
     "execution_count": 181,
     "metadata": {},
     "output_type": "execute_result"
    }
   ],
   "source": [
    "data.sex.value_counts()\n"
   ]
  },
  {
   "cell_type": "markdown",
   "metadata": {},
   "source": [
    "## 4. Plot Height vs. Weight "
   ]
  },
  {
   "cell_type": "code",
   "execution_count": 182,
   "metadata": {},
   "outputs": [
    {
     "data": {
      "text/plain": [
       "<matplotlib.axes._subplots.AxesSubplot at 0x1128f7c88>"
      ]
     },
     "execution_count": 182,
     "metadata": {},
     "output_type": "execute_result"
    },
    {
     "data": {
      "image/png": "[encoded data removed]",
      "text/plain": [
       "<matplotlib.figure.Figure at 0x1129960f0>"
      ]
     },
     "metadata": {},
     "output_type": "display_data"
    }
   ],
   "source": [
    "data.plot.scatter('weight', 'height')"
   ]
  },
  {
   "cell_type": "markdown",
   "metadata": {},
   "source": [
    "## 5. Calculate BMI and save as a new column"
   ]
  },
  {
   "cell_type": "code",
   "execution_count": 183,
   "metadata": {},
   "outputs": [
    {
     "data": {
      "text/html": [
       "<div>\n",
       "<style>\n",
       "    .dataframe thead tr:only-child th {\n",
       "        text-align: right;\n",
       "    }\n",
       "\n",
       "    .dataframe thead th {\n",
       "        text-align: left;\n",
       "    }\n",
       "\n",
       "    .dataframe tbody tr th {\n",
       "        vertical-align: top;\n",
       "    }\n",
       "</style>\n",
       "<table border=\"1\" class=\"dataframe\">\n",
       "  <thead>\n",
       "    <tr style=\"text-align: right;\">\n",
       "      <th></th>\n",
       "      <th>id</th>\n",
       "      <th>sex</th>\n",
       "      <th>weight</th>\n",
       "      <th>height</th>\n",
       "      <th>BMI</th>\n",
       "    </tr>\n",
       "  </thead>\n",
       "  <tbody>\n",
       "    <tr>\n",
       "      <th>0</th>\n",
       "      <td>1</td>\n",
       "      <td>M</td>\n",
       "      <td>190</td>\n",
       "      <td>77</td>\n",
       "      <td>0.405263</td>\n",
       "    </tr>\n",
       "    <tr>\n",
       "      <th>1</th>\n",
       "      <td>2</td>\n",
       "      <td>F</td>\n",
       "      <td>120</td>\n",
       "      <td>70</td>\n",
       "      <td>0.583333</td>\n",
       "    </tr>\n",
       "    <tr>\n",
       "      <th>2</th>\n",
       "      <td>3</td>\n",
       "      <td>F</td>\n",
       "      <td>110</td>\n",
       "      <td>68</td>\n",
       "      <td>0.618182</td>\n",
       "    </tr>\n",
       "    <tr>\n",
       "      <th>3</th>\n",
       "      <td>4</td>\n",
       "      <td>M</td>\n",
       "      <td>150</td>\n",
       "      <td>72</td>\n",
       "      <td>0.480000</td>\n",
       "    </tr>\n",
       "    <tr>\n",
       "      <th>4</th>\n",
       "      <td>5</td>\n",
       "      <td>O</td>\n",
       "      <td>120</td>\n",
       "      <td>66</td>\n",
       "      <td>0.550000</td>\n",
       "    </tr>\n",
       "    <tr>\n",
       "      <th>5</th>\n",
       "      <td>6</td>\n",
       "      <td>M</td>\n",
       "      <td>120</td>\n",
       "      <td>60</td>\n",
       "      <td>0.500000</td>\n",
       "    </tr>\n",
       "    <tr>\n",
       "      <th>6</th>\n",
       "      <td>7</td>\n",
       "      <td>F</td>\n",
       "      <td>140</td>\n",
       "      <td>70</td>\n",
       "      <td>0.500000</td>\n",
       "    </tr>\n",
       "  </tbody>\n",
       "</table>\n",
       "</div>"
      ],
      "text/plain": [
       "   id sex  weight  height       BMI\n",
       "0   1   M     190      77  0.405263\n",
       "1   2   F     120      70  0.583333\n",
       "2   3   F     110      68  0.618182\n",
       "3   4   M     150      72  0.480000\n",
       "4   5   O     120      66  0.550000\n",
       "5   6   M     120      60  0.500000\n",
       "6   7   F     140      70  0.500000"
      ]
     },
     "execution_count": 183,
     "metadata": {},
     "output_type": "execute_result"
    }
   ],
   "source": [
    "data['BMI'] = data.height/data.weight\n",
    "data"
   ]
  },
  {
   "cell_type": "markdown",
   "metadata": {},
   "source": [
    "## 6. Save sheet as a new CSV file `hw_dataB.csv`"
   ]
  },
  {
   "cell_type": "code",
   "execution_count": 184,
   "metadata": {},
   "outputs": [],
   "source": [
    "data.to_csv('hw_dataB.csv')"
   ]
  },
  {
   "cell_type": "markdown",
   "metadata": {},
   "source": [
    "## Run the following"
   ]
  },
  {
   "cell_type": "code",
   "execution_count": 185,
   "metadata": {},
   "outputs": [
    {
     "name": "stdout",
     "output_type": "stream",
     "text": [
      ",id,sex,weight,height,BMI\r\n",
      "0,1,M,190,77,0.4052631578947368\r\n",
      "1,2,F,120,70,0.5833333333333334\r\n",
      "2,3,F,110,68,0.6181818181818182\r\n",
      "3,4,M,150,72,0.48\r\n",
      "4,5,O,120,66,0.55\r\n",
      "5,6,M,120,60,0.5\r\n",
      "6,7,F,140,70,0.5\r\n"
     ]
    }
   ],
   "source": [
    "!cat hw_dataB.csv"
   ]
  },
  {
   "cell_type": "code",
   "execution_count": null,
   "metadata": {
    "collapsed": true
   },
   "outputs": [],
   "source": []
  }
 ],
 "metadata": {
  "kernelspec": {
   "display_name": "Python 3",
   "language": "python",
   "name": "python3"
  },
  "language_info": {
   "codemirror_mode": {
    "name": "ipython",
    "version": 3
   },
   "file_extension": ".py",
   "mimetype": "text/x-python",
   "name": "python",
   "nbconvert_exporter": "python",
   "pygments_lexer": "ipython3",
   "version": "3.6.3"
  }
 },
 "nbformat": 4,
 "nbformat_minor": 1
}
